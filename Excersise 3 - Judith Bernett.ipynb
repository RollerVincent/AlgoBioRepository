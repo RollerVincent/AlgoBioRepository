{
 "cells": [
  {
   "cell_type": "markdown",
   "metadata": {},
   "source": [
    "<font size=4 color=\"darkblue\"> Excersise Sheet 3 by Judith Bernett </font>\n",
    "<br> <br> <font size=3> Genbank</font>"
   ]
  },
  {
   "cell_type": "markdown",
   "metadata": {},
   "source": [
    "1.\"Look at entry NM_015368. What is the most recent change? How many times \n",
    "has the sequence of the entry been updated? When did these updates occur?\"\n",
    "\n",
    "-The most recent changes were on Apr 1, 2018. Some exon entries were added:\n",
    "\n",
    "<pre>\n",
    "Differences in LOCUS names:\n",
    "---------------------------\n",
    "old: \"LOCUS       NM_015368               2782 bp    mRNA    linear   PRI \n",
    "      17-MAR-2018\"\n",
    "      ^\n",
    "new: \"LOCUS       NM_015368               2782 bp    mRNA    linear   PRI \n",
    "      01-APR-2018\"\n",
    "      ^\n",
    "\n",
    "Differences in FEATURE.exon:\n",
    "----------------------------\n",
    "New feature\texon\t1..566\n",
    "\t\t/gene\t\t= \"PANX1\"\n",
    "\t\t/gene_synonym\t= \"MRS1; PX1; UNQ2529\"\n",
    "\t\t/inference\t= \"alignment:Splign:2.1.0\"\n",
    "\n",
    "Differences in FEATURE.exon:\n",
    "----------------------------\n",
    "New feature\texon\t1587..2769\n",
    "\t\t/gene\t\t= \"PANX1\"\n",
    "\t\t/gene_synonym\t= \"MRS1; PX1; UNQ2529\"\n",
    "\t\t/inference\t= \"alignment:Splign:2.1.0\"\n",
    "\n",
    "Differences in FEATURE.exon:\n",
    "----------------------------\n",
    "New feature\texon\t567..706\n",
    "\t\t/gene\t\t= \"PANX1\"\n",
    "\t\t/gene_synonym\t= \"MRS1; PX1; UNQ2529\"\n",
    "\t\t/inference\t= \"alignment:Splign:2.1.0\"\n",
    "\n",
    "Differences in FEATURE.exon:\n",
    "----------------------------\n",
    "New feature\texon\t707..930\n",
    "\t\t/gene\t\t= \"PANX1\"\n",
    "\t\t/gene_synonym\t= \"MRS1; PX1; UNQ2529\"\n",
    "\t\t/inference\t= \"alignment:Splign:2.1.0\"\n",
    "\n",
    "Differences in FEATURE.exon:\n",
    "----------------------------\n",
    "New feature\texon\t931..1586\n",
    "\t\t/gene\t\t= \"PANX1\"\n",
    "\t\t/gene_synonym\t= \"MRS1; PX1; UNQ2529\"\n",
    "\t\t/inference\t= \"alignment:Splign:2.1.0\"\n",
    "</pre>\n",
    "\n",
    "-The sequence has been updated 102 times: \n",
    "<pre>\n",
    "        3\t39995063\tNM_015368.3\tApr 1, 2018 02:39 AM\t\n",
    "\t\t3\t39995063\tNM_015368.3\tMar 17, 2018 01:27 AM\t\n",
    "\t\t3\t39995063\tNM_015368.3\tFeb 26, 2018 02:01 AM\t\n",
    "\t\t3\t39995063\tNM_015368.3\tDec 18, 2017 12:38 AM\t\n",
    "\t\t3\t39995063\tNM_015368.3\tNov 2, 2017 01:18 AM\t\n",
    "\t\t3\t39995063\tNM_015368.3\tOct 9, 2017 01:07 AM\t\n",
    "\t\t3\t39995063\tNM_015368.3\tSep 11, 2017 01:47 AM\t\n",
    "\t\t3\t39995063\tNM_015368.3\tJun 11, 2017 01:02 PM\t\n",
    "\t\t3\t39995063\tNM_015368.3\tMay 13, 2017 04:53 PM\t\n",
    "\t\t3\t39995063\tNM_015368.3\tApr 26, 2017 12:30 AM\t\n",
    "\t\t3\t39995063\tNM_015368.3\tSep 4, 2016 03:57 PM\t\n",
    "\t\t3\t39995063\tNM_015368.3\tMar 15, 2015 03:22 PM\t\n",
    "\t\t3\t39995063\tNM_015368.3\tSep 6, 2014 06:40 AM\t\n",
    "\t\t3\t39995063\tNM_015368.3\tMay 3, 2014 04:18 PM\t\n",
    "\t\t3\t39995063\tNM_015368.3\tApr 13, 2014 02:11 PM\t\n",
    "\t\t3\t39995063\tNM_015368.3\tMar 12, 2014 03:24 PM\t\n",
    "\t\t3\t39995063\tNM_015368.3\tFeb 26, 2014 01:45 AM\t\n",
    "\t\t3\t39995063\tNM_015368.3\tFeb 22, 2014 03:10 PM\t\n",
    "\t\t3\t39995063\tNM_015368.3\tJan 26, 2014 01:49 AM\t\n",
    "\t\t3\t39995063\tNM_015368.3\tJan 10, 2014 05:54 PM\t\n",
    "\t\t3\t39995063\tNM_015368.3\tJan 5, 2014 03:22 PM\t\n",
    "\t\t3\t39995063\tNM_015368.3\tDec 29, 2013 02:17 PM\t\n",
    "\t\t3\t39995063\tNM_015368.3\tDec 1, 2013 02:11 PM\t\n",
    "\t\t3\t39995063\tNM_015368.3\tNov 17, 2013 02:35 PM\t\n",
    "\t\t3\t39995063\tNM_015368.3\tOct 27, 2013 02:50 PM\t\n",
    "\t\t3\t39995063\tNM_015368.3\tSep 22, 2013 03:10 PM\t\n",
    "\t\t3\t39995063\tNM_015368.3\tApr 17, 2013 05:01 PM\t\n",
    "\t\t3\t39995063\tNM_015368.3\tApr 7, 2013 02:43 PM\t\n",
    "\t\t3\t39995063\tNM_015368.3\tFeb 24, 2013 01:54 PM\t\n",
    "\t\t3\t39995063\tNM_015368.3\tJan 28, 2013 12:42 AM\t\n",
    "\t\t3\t39995063\tNM_015368.3\tJan 5, 2013 02:41 PM\t\n",
    "\t\t3\t39995063\tNM_015368.3\tNov 4, 2012 12:47 PM\t\n",
    "\t\t3\t39995063\tNM_015368.3\tSep 23, 2012 02:07 PM\t\n",
    "\t\t3\t39995063\tNM_015368.3\tSep 8, 2012 02:44 PM\t\n",
    "\t\t3\t39995063\tNM_015368.3\tJul 15, 2012 03:06 PM\t\n",
    "\t\t3\t39995063\tNM_015368.3\tJun 28, 2012 05:17 PM\t\n",
    "\t\t3\t39995063\tNM_015368.3\tApr 28, 2012 02:46 PM\t\n",
    "\t\t3\t39995063\tNM_015368.3\tDec 17, 2011 03:03 PM\t\n",
    "\t\t3\t39995063\tNM_015368.3\tNov 27, 2011 03:02 PM\t\n",
    "\t\t3\t39995063\tNM_015368.3\tNov 20, 2011 02:38 PM\t\n",
    "\t\t3\t39995063\tNM_015368.3\tOct 16, 2011 01:26 PM\t\n",
    "\t\t3\t39995063\tNM_015368.3\tOct 2, 2011 01:37 PM\t\n",
    "\t\t3\t39995063\tNM_015368.3\tAug 14, 2011 02:57 PM\t\n",
    "\t\t3\t39995063\tNM_015368.3\tJul 31, 2011 02:45 PM\t\n",
    "\t\t3\t39995063\tNM_015368.3\tJul 2, 2011 02:28 PM\t\n",
    "\t\t3\t39995063\tNM_015368.3\tApr 10, 2011 12:35 AM\t\n",
    "\t\t3\t39995063\tNM_015368.3\tMar 11, 2011 01:54 PM\t\n",
    "\t\t3\t39995063\tNM_015368.3\tJan 20, 2011 12:34 AM\t\n",
    "\t\t3\t39995063\tNM_015368.3\tJan 2, 2011 02:25 PM\t\n",
    "\t\t3\t39995063\tNM_015368.3\tDec 26, 2010 01:08 AM\t\n",
    "\t\t3\t39995063\tNM_015368.3\tDec 5, 2010 01:48 PM\t\n",
    "\t\t3\t39995063\tNM_015368.3\tNov 23, 2010 12:32 AM\t\n",
    "\t\t3\t39995063\tNM_015368.3\tNov 10, 2010 02:20 PM\t\n",
    "\t\t3\t39995063\tNM_015368.3\tOct 3, 2010 01:41 PM\t\n",
    "\t\t3\t39995063\tNM_015368.3\tSep 19, 2010 03:39 PM\t\n",
    "\t\t3\t39995063\tNM_015368.3\tApr 25, 2010 01:49 PM\t\n",
    "\t\t3\t39995063\tNM_015368.3\tMar 4, 2010 11:11 PM\t\n",
    "\t\t3\t39995063\tNM_015368.3\tFeb 7, 2010 11:32 AM\t\n",
    "\t\t3\t39995063\tNM_015368.3\tDec 6, 2009 11:54 AM\t\n",
    "\t\t3\t39995063\tNM_015368.3\tOct 18, 2009 10:47 AM\t\n",
    "\t\t3\t39995063\tNM_015368.3\tApr 12, 2009 10:36 AM\t\n",
    "\t\t3\t39995063\tNM_015368.3\tMar 22, 2009 10:26 AM\t\n",
    "\t\t3\t39995063\tNM_015368.3\tOct 12, 2008 10:43 AM\t\n",
    "\t\t3\t39995063\tNM_015368.3\tMay 11, 2008 10:51 AM\t\n",
    "\t\t3\t39995063\tNM_015368.3\tMar 27, 2008 12:39 AM\t\n",
    "\t\t3\t39995063\tNM_015368.3\tFeb 11, 2008 12:49 AM\t\n",
    "\t\t3\t39995063\tNM_015368.3\tDec 9, 2007 11:09 AM\t\n",
    "\t\t3\t39995063\tNM_015368.3\tSep 3, 2007 03:02 AM\t\n",
    "\t\t3\t39995063\tNM_015368.3\tJun 26, 2007 10:53 PM\t\n",
    "\t\t3\t39995063\tNM_015368.3\tJun 22, 2007 11:28 PM\t\n",
    "\t\t3\t39995063\tNM_015368.3\tMar 25, 2007 11:40 AM\t\n",
    "\t\t3\t39995063\tNM_015368.3\tJan 14, 2007 12:11 PM\t\n",
    "\t\t3\t39995063\tNM_015368.3\tDec 3, 2006 10:40 AM\t\n",
    "\t\t3\t39995063\tNM_015368.3\tNov 17, 2006 11:49 PM\t\n",
    "\t\t3\t39995063\tNM_015368.3\tNov 3, 2006 01:07 PM\t\n",
    "\t\t3\t39995063\tNM_015368.3\tOct 29, 2006 10:26 AM\t\n",
    "\t\t3\t39995063\tNM_015368.3\tOct 15, 2006 10:59 AM\t\n",
    "\t\t3\t39995063\tNM_015368.3\tAug 6, 2006 02:43 PM\t\n",
    "\t\t3\t39995063\tNM_015368.3\tJan 29, 2006 11:11 AM\t\n",
    "\t\t3\t39995063\tNM_015368.3\tSep 24, 2005 06:44 AM\t\n",
    "\t\t3\t39995063\tNM_015368.3\tJul 8, 2005 01:43 PM\t\n",
    "\t\t3\t39995063\tNM_015368.3\tApr 23, 2005 09:43 AM\t\n",
    "\t\t3\t39995063\tNM_015368.3\tMar 2, 2005 01:02 PM\t\n",
    "\t\t3\t39995063\tNM_015368.3\tOct 27, 2004 09:40 PM\t\n",
    "\t\t3\t39995063\tNM_015368.3\tAug 23, 2004 03:34 PM\t\n",
    "\t\t3\t39995063\tNM_015368.3\tJan 27, 2004 09:22 AM\t\n",
    "\t\t3\t39995063\tNM_015368.3\tDec 23, 2003 12:52 PM\t\n",
    "\t\t3\t39995063\tNM_015368.3\tDec 17, 2003 05:18 PM\t\n",
    "\t\t2\t29837657\tNM_015368.2\tOct 5, 2003 03:40 PM\t\n",
    "\t\t2\t29837657\tNM_015368.2\tSep 7, 2003 04:39 PM\t\n",
    "\t\t2\t29837657\tNM_015368.2\tMay 7, 2003 04:21 AM\t\n",
    "\t\t2\t29837657\tNM_015368.2\tApr 15, 2003 03:31 AM\t\n",
    "\t\t1\t7662507\tNM_015368.1\tApr 7, 2003 11:18 AM\t\n",
    "\t\t1\t7662507\tNM_015368.1\tDec 23, 2002 12:19 PM\t\n",
    "\t\t1\t7662507\tNM_015368.1\tNov 5, 2002 10:47 AM\t\n",
    "\t\t1\t7662507\tNM_015368.1\tAug 27, 2002 03:38 PM\t\n",
    "\t\t1\t7662507\tNM_015368.1\tMay 14, 2002 02:03 PM\t\n",
    "\t\t1\t7662507\tNM_015368.1\tFeb 11, 2002 03:04 AM\t\n",
    "\t\t1\t7662507\tNM_015368.1\tMay 24, 2001 04:16 AM\t\n",
    "\t\t1\t7662507\tNM_015368.1\tNov 2, 2000 06:44 AM\t\n",
    "\t\t1\t7662507\tNM_015368.1\tAug 18, 2000 10:14 AM\t\n",
    "\t\t1\t7662507\tNM_015368.1\tApr 28, 2000 09:30 AM\t</pre>"
   ]
  },
  {
   "cell_type": "markdown",
   "metadata": {},
   "source": [
    "2. \"Use BioPython for querying the <font color=\"red\"><b>gene</b></font> database through ESearch by the gene name 'Aquaporin'. Make sure all results are retrieved (as much as the service allows in a query) and make use of the webenv system offered by NCBI to then use ELink and retrieve IDs in the protein database. From those results retrieve the FASTA output in XML format for all proteins in refseq and calculate the average sequence length.\""
   ]
  },
  {
   "cell_type": "code",
   "execution_count": 51,
   "metadata": {},
   "outputs": [
    {
     "name": "stdout",
     "output_type": "stream",
     "text": [
      "{'DbList': ['pubmed', 'protein', 'nuccore', 'ipg', 'nucleotide', 'nucgss', 'nucest', 'structure', 'sparcle', 'genome', 'annotinfo', 'assembly', 'bioproject', 'biosample', 'blastdbinfo', 'books', 'cdd', 'clinvar', 'clone', 'gap', 'gapplus', 'grasp', 'dbvar', 'gene', 'gds', 'geoprofiles', 'homologene', 'medgen', 'mesh', 'ncbisearch', 'nlmcatalog', 'omim', 'orgtrack', 'pmc', 'popset', 'probe', 'proteinclusters', 'pcassay', 'biosystems', 'pccompound', 'pcsubstance', 'pubmedhealth', 'seqannot', 'snp', 'sra', 'taxonomy', 'biocollections', 'unigene', 'gencoll', 'gtr']}\n"
     ]
    }
   ],
   "source": [
    "from Bio import Entrez\n",
    "Entrez.email = \"bernett@in.tum.de\"\n",
    "print(Entrez.read(Entrez.einfo()))"
   ]
  },
  {
   "cell_type": "code",
   "execution_count": 113,
   "metadata": {},
   "outputs": [
    {
     "name": "stdout",
     "output_type": "stream",
     "text": [
      "10965\n",
      "1956\n"
     ]
    },
    {
     "ename": "KeyboardInterrupt",
     "evalue": "",
     "output_type": "error",
     "traceback": [
      "\u001b[0;31m---------------------------------------------------------------------------\u001b[0m",
      "\u001b[0;31mKeyboardInterrupt\u001b[0m                         Traceback (most recent call last)",
      "\u001b[0;32m<ipython-input-113-f07694679dc4>\u001b[0m in \u001b[0;36m<module>\u001b[0;34m()\u001b[0m\n\u001b[1;32m     13\u001b[0m \u001b[0mprint\u001b[0m\u001b[0;34m(\u001b[0m\u001b[0mlen\u001b[0m\u001b[0;34m(\u001b[0m\u001b[0midList\u001b[0m\u001b[0;34m)\u001b[0m\u001b[0;34m)\u001b[0m\u001b[0;34m\u001b[0m\u001b[0m\n\u001b[1;32m     14\u001b[0m \u001b[0mprint\u001b[0m\u001b[0;34m(\u001b[0m\u001b[0midList\u001b[0m\u001b[0;34m[\u001b[0m\u001b[0;36m0\u001b[0m\u001b[0;34m]\u001b[0m\u001b[0;34m)\u001b[0m\u001b[0;34m\u001b[0m\u001b[0m\n\u001b[0;32m---> 15\u001b[0;31m \u001b[0mrecord3\u001b[0m\u001b[0;34m=\u001b[0m \u001b[0mEntrez\u001b[0m\u001b[0;34m.\u001b[0m\u001b[0mread\u001b[0m\u001b[0;34m(\u001b[0m\u001b[0mEntrez\u001b[0m\u001b[0;34m.\u001b[0m\u001b[0mefetch\u001b[0m\u001b[0;34m(\u001b[0m\u001b[0mdb\u001b[0m\u001b[0;34m=\u001b[0m\u001b[0;34m\"gene\"\u001b[0m\u001b[0;34m,\u001b[0m \u001b[0mid\u001b[0m\u001b[0;34m=\u001b[0m\u001b[0midList\u001b[0m\u001b[0;34m[\u001b[0m\u001b[0;36m0\u001b[0m\u001b[0;34m]\u001b[0m\u001b[0;34m,\u001b[0m \u001b[0mretmode\u001b[0m\u001b[0;34m=\u001b[0m\u001b[0;34m\"xml\"\u001b[0m\u001b[0;34m)\u001b[0m\u001b[0;34m)\u001b[0m\u001b[0;34m\u001b[0m\u001b[0m\n\u001b[0m\u001b[1;32m     16\u001b[0m \u001b[0mprint\u001b[0m\u001b[0;34m(\u001b[0m\u001b[0mrecord3\u001b[0m\u001b[0;34m[\u001b[0m\u001b[0;36m0\u001b[0m\u001b[0;34m]\u001b[0m\u001b[0;34m[\u001b[0m\u001b[0;34m\"GBSeq_sequence\"\u001b[0m\u001b[0;34m]\u001b[0m\u001b[0;34m)\u001b[0m\u001b[0;34m\u001b[0m\u001b[0m\n\u001b[1;32m     17\u001b[0m \u001b[0;34m\u001b[0m\u001b[0m\n",
      "\u001b[0;32m~/anaconda3/lib/python3.6/site-packages/Bio/Entrez/__init__.py\u001b[0m in \u001b[0;36mread\u001b[0;34m(handle, validate)\u001b[0m\n\u001b[1;32m    452\u001b[0m     \u001b[0;32mfrom\u001b[0m \u001b[0;34m.\u001b[0m\u001b[0mParser\u001b[0m \u001b[0;32mimport\u001b[0m \u001b[0mDataHandler\u001b[0m\u001b[0;34m\u001b[0m\u001b[0m\n\u001b[1;32m    453\u001b[0m     \u001b[0mhandler\u001b[0m \u001b[0;34m=\u001b[0m \u001b[0mDataHandler\u001b[0m\u001b[0;34m(\u001b[0m\u001b[0mvalidate\u001b[0m\u001b[0;34m)\u001b[0m\u001b[0;34m\u001b[0m\u001b[0m\n\u001b[0;32m--> 454\u001b[0;31m     \u001b[0mrecord\u001b[0m \u001b[0;34m=\u001b[0m \u001b[0mhandler\u001b[0m\u001b[0;34m.\u001b[0m\u001b[0mread\u001b[0m\u001b[0;34m(\u001b[0m\u001b[0mhandle\u001b[0m\u001b[0;34m)\u001b[0m\u001b[0;34m\u001b[0m\u001b[0m\n\u001b[0m\u001b[1;32m    455\u001b[0m     \u001b[0;32mreturn\u001b[0m \u001b[0mrecord\u001b[0m\u001b[0;34m\u001b[0m\u001b[0m\n\u001b[1;32m    456\u001b[0m \u001b[0;34m\u001b[0m\u001b[0m\n",
      "\u001b[0;32m~/anaconda3/lib/python3.6/site-packages/Bio/Entrez/Parser.py\u001b[0m in \u001b[0;36mread\u001b[0;34m(self, handle)\u001b[0m\n\u001b[1;32m    236\u001b[0m                 \u001b[0mhandle\u001b[0m \u001b[0;34m=\u001b[0m \u001b[0mBytesIO\u001b[0m\u001b[0;34m(\u001b[0m\u001b[0m_as_bytes\u001b[0m\u001b[0;34m(\u001b[0m\u001b[0mhandle\u001b[0m\u001b[0;34m.\u001b[0m\u001b[0mread\u001b[0m\u001b[0;34m(\u001b[0m\u001b[0;34m)\u001b[0m\u001b[0;34m)\u001b[0m\u001b[0;34m)\u001b[0m\u001b[0;34m\u001b[0m\u001b[0m\n\u001b[1;32m    237\u001b[0m         \u001b[0;32mtry\u001b[0m\u001b[0;34m:\u001b[0m\u001b[0;34m\u001b[0m\u001b[0m\n\u001b[0;32m--> 238\u001b[0;31m             \u001b[0mself\u001b[0m\u001b[0;34m.\u001b[0m\u001b[0mparser\u001b[0m\u001b[0;34m.\u001b[0m\u001b[0mParseFile\u001b[0m\u001b[0;34m(\u001b[0m\u001b[0mhandle\u001b[0m\u001b[0;34m)\u001b[0m\u001b[0;34m\u001b[0m\u001b[0m\n\u001b[0m\u001b[1;32m    239\u001b[0m         \u001b[0;32mexcept\u001b[0m \u001b[0mexpat\u001b[0m\u001b[0;34m.\u001b[0m\u001b[0mExpatError\u001b[0m \u001b[0;32mas\u001b[0m \u001b[0me\u001b[0m\u001b[0;34m:\u001b[0m\u001b[0;34m\u001b[0m\u001b[0m\n\u001b[1;32m    240\u001b[0m             \u001b[0;32mif\u001b[0m \u001b[0mself\u001b[0m\u001b[0;34m.\u001b[0m\u001b[0mparser\u001b[0m\u001b[0;34m.\u001b[0m\u001b[0mStartElementHandler\u001b[0m\u001b[0;34m:\u001b[0m\u001b[0;34m\u001b[0m\u001b[0m\n",
      "\u001b[0;32m/opt/concourse/worker/volumes/live/4d3b6d26-fbeb-4ff3-66ce-e9f31119f7df/volume/python_1516124224094/work/Modules/pyexpat.c\u001b[0m in \u001b[0;36mEndElement\u001b[0;34m()\u001b[0m\n",
      "\u001b[0;32m~/anaconda3/lib/python3.6/site-packages/Bio/Entrez/Parser.py\u001b[0m in \u001b[0;36mendElementHandler\u001b[0;34m(self, name)\u001b[0m\n\u001b[1;32m    396\u001b[0m         \u001b[0;32melif\u001b[0m \u001b[0mname\u001b[0m \u001b[0;32min\u001b[0m \u001b[0mself\u001b[0m\u001b[0;34m.\u001b[0m\u001b[0mintegers\u001b[0m\u001b[0;34m:\u001b[0m\u001b[0;34m\u001b[0m\u001b[0m\n\u001b[1;32m    397\u001b[0m             \u001b[0mvalue\u001b[0m \u001b[0;34m=\u001b[0m \u001b[0mIntegerElement\u001b[0m\u001b[0;34m(\u001b[0m\u001b[0mvalue\u001b[0m\u001b[0;34m)\u001b[0m\u001b[0;34m\u001b[0m\u001b[0m\n\u001b[0;32m--> 398\u001b[0;31m         \u001b[0;32melif\u001b[0m \u001b[0mname\u001b[0m \u001b[0;32min\u001b[0m \u001b[0mself\u001b[0m\u001b[0;34m.\u001b[0m\u001b[0mstrings\u001b[0m\u001b[0;34m:\u001b[0m\u001b[0;34m\u001b[0m\u001b[0m\n\u001b[0m\u001b[1;32m    399\u001b[0m             \u001b[0;31m# Convert Unicode strings to plain strings if possible\u001b[0m\u001b[0;34m\u001b[0m\u001b[0;34m\u001b[0m\u001b[0m\n\u001b[1;32m    400\u001b[0m             \u001b[0;32mtry\u001b[0m\u001b[0;34m:\u001b[0m\u001b[0;34m\u001b[0m\u001b[0m\n",
      "\u001b[0;31mKeyboardInterrupt\u001b[0m: "
     ]
    }
   ],
   "source": [
    "record= Entrez.read(Entrez.esearch(term=\"aquaporin\", db=\"gene\", retmax = 100000))\n",
    "idList = record[\"IdList\"]\n",
    "start = 100000\n",
    "tmpList = []\n",
    "tmpList.extend(idList)\n",
    "while len(tmpList) is not 0:\n",
    "    tmpList.clear()\n",
    "    record = Entrez.read(Entrez.esearch(term=\"aquaporin\", db=\"gene\", retstart=start, retmax = 100000))\n",
    "    tmpList = record[\"IdList\"]\n",
    "    idList.extend(tmpList)\n",
    "    start = start + 100000\n",
    "\n",
    "print(len(idList))\n",
    "print(idList[0])\n",
    "record3= Entrez.read(Entrez.efetch(db=\"gene\", id=idList[0], retmode=\"xml\"))\n",
    "print(record3[0][\"GBSeq_sequence\"])\n",
    "\n",
    "    "
   ]
  },
  {
   "cell_type": "code",
   "execution_count": 73,
   "metadata": {},
   "outputs": [
    {
     "ename": "KeyError",
     "evalue": "'GBSeq_sequence'",
     "output_type": "error",
     "traceback": [
      "\u001b[0;31m---------------------------------------------------------------------------\u001b[0m",
      "\u001b[0;31mKeyError\u001b[0m                                  Traceback (most recent call last)",
      "\u001b[0;32m<ipython-input-73-77cfccfbd0c3>\u001b[0m in \u001b[0;36m<module>\u001b[0;34m()\u001b[0m\n\u001b[1;32m      3\u001b[0m \u001b[0;32mfor\u001b[0m \u001b[0mi\u001b[0m \u001b[0;32min\u001b[0m \u001b[0midList\u001b[0m\u001b[0;34m:\u001b[0m\u001b[0;34m\u001b[0m\u001b[0m\n\u001b[1;32m      4\u001b[0m     \u001b[0mrtmp\u001b[0m \u001b[0;34m=\u001b[0m \u001b[0mEntrez\u001b[0m\u001b[0;34m.\u001b[0m\u001b[0mread\u001b[0m\u001b[0;34m(\u001b[0m\u001b[0mEntrez\u001b[0m\u001b[0;34m.\u001b[0m\u001b[0mefetch\u001b[0m\u001b[0;34m(\u001b[0m\u001b[0mid\u001b[0m\u001b[0;34m=\u001b[0m\u001b[0mi\u001b[0m\u001b[0;34m,\u001b[0m \u001b[0mdb\u001b[0m\u001b[0;34m=\u001b[0m\u001b[0;34m\"nucleotide\"\u001b[0m\u001b[0;34m,\u001b[0m \u001b[0mretmode\u001b[0m\u001b[0;34m=\u001b[0m\u001b[0;34m\"xml\"\u001b[0m\u001b[0;34m)\u001b[0m\u001b[0;34m)\u001b[0m\u001b[0;34m\u001b[0m\u001b[0m\n\u001b[0;32m----> 5\u001b[0;31m     \u001b[0mseq\u001b[0m \u001b[0;34m=\u001b[0m \u001b[0mrtmp\u001b[0m\u001b[0;34m[\u001b[0m\u001b[0;36m0\u001b[0m\u001b[0;34m]\u001b[0m\u001b[0;34m[\u001b[0m\u001b[0;34m\"GBSeq_sequence\"\u001b[0m\u001b[0;34m]\u001b[0m\u001b[0;34m\u001b[0m\u001b[0m\n\u001b[0m\u001b[1;32m      6\u001b[0m     \u001b[0mcounter\u001b[0m \u001b[0;34m=\u001b[0m \u001b[0mcounter\u001b[0m\u001b[0;34m+\u001b[0m\u001b[0;36m1\u001b[0m\u001b[0;34m\u001b[0m\u001b[0m\n\u001b[1;32m      7\u001b[0m     \u001b[0msumlen\u001b[0m \u001b[0;34m=\u001b[0m \u001b[0msumlen\u001b[0m \u001b[0;34m+\u001b[0m \u001b[0mlen\u001b[0m\u001b[0;34m(\u001b[0m\u001b[0mseq\u001b[0m\u001b[0;34m)\u001b[0m\u001b[0;34m\u001b[0m\u001b[0m\n",
      "\u001b[0;31mKeyError\u001b[0m: 'GBSeq_sequence'"
     ]
    }
   ],
   "source": [
    "counter = 0\n",
    "sumlen = 0\n",
    "for i in idList:\n",
    "    rtmp = Entrez.read(Entrez.efetch(id=i, db=\"nucleotide\", retmode=\"xml\"))\n",
    "    seq = rtmp[0][\"GBSeq_sequence\"]\n",
    "    counter = counter+1\n",
    "    sumlen = sumlen + len(seq)\n",
    "    \n",
    "print(\"Avg Length: \", sumlen/counter)"
   ]
  },
  {
   "cell_type": "markdown",
   "metadata": {},
   "source": [
    "PDB: \n",
    "I. <i>What are the three main experimental methods for the determination of 3D structures? </i>\n",
    "<ul>\n",
    "    <li>X-ray Crystallography</li>\n",
    "    <li>NMR Spectroscopy</li>\n",
    "    <li>3D Electron Microscopy</li> </ul>\n",
    "    \n",
    "<i>What is the absolute number of structures currently in the PDB for each? </i>\n",
    "    \n",
    "<ul><li>X-ray Crystallography: 125421</li>\n",
    "    <li>NMR Spectroscopy:       12208</li>\n",
    "    <li>3D Electron Microscopy:  2119</li></ul>\t\n",
    "    \n",
    "<i>What is the main difference/disadvantage of the least common method? </i>\n",
    "    \n",
    "You can only make 2D pictures and have to reconstruct the 3D model from many 2D pictures. In X-Ray Crystallography or NMR Spectroscopy you're working with resonances and densities in space. "
   ]
  },
  {
   "cell_type": "markdown",
   "metadata": {},
   "source": [
    "II. <i>Estimates are that 20-30% of most genomes are membrane proteins. Is their prevalence in the PDB higher or lower than this? </i>\n",
    "\n",
    "The PDB Database gives you following categories and numbers for their membrane proteins: \n",
    "<ul>\n",
    "    <li>alpha-helical: 3363 structures</li>\n",
    "    <li>beta-barrel: 959 structures</li>\n",
    "    <li>monotopic membrane proteins: 455 structures</li>\n",
    "</ul>\n",
    "--> 4777 structures of 140,390 structures in total: 3.5%, so lower than the estimation"
   ]
  },
  {
   "cell_type": "markdown",
   "metadata": {},
   "source": [
    "III. <i>What does the resolution of a PDB entry represent and what unit is it typically denoted in? </i>\n",
    "\n",
    "> \"Resolution is a measure of the quality of the data that has been collected on the crystal containing the protein or nucleic acid.[…] So resolution is a measure of the level of detail present in the diffraction pattern and the level of detail that will be seen when the electron density map is calculated. High-resolution structures, with resolution values of 1 Å or so, are highly ordered and it is easy to see every atom in the electron density map. Lower resolution structures, with resolution of 3 Å or higher, show only the basic contours of the protein chain, and the atomic structure must be inferred.\" (from PDB-101: Guide to Understand PDB Data - Resolution). \n",
    "\n",
    "The Unit is Ångström.   \n",
    "\n",
    "<i>Do all of the three main experimental methods supply a resolution? </i>\n",
    "    \n",
    "No, the statistics of PDB only include structures solved by X-ray crystallography or electron microscopy.\n",
    "    \n",
    " <i>Which entry currently has the highest resolution (lowest value) in  PDB? What is the average resolution in the PDB? </i>\n",
    " \n",
    "There are two entries, which currently have the highest resolution (0.48 Å): 5D8V and 3NIR. Most protein structures have a resolution between 1.8-2.0 Å. The <a href=\"http://www.rcsb.org/stats/distribution_resolution\">statistics page</a> does not show an average value."
   ]
  },
  {
   "cell_type": "markdown",
   "metadata": {},
   "source": [
    "<i> IV. What is the difference between HETATM and ATOM entries in a PDB file? </i>\n",
    "\n",
    "> \"A typical PDB format file will contain atomic coordinates for a diverse collection of proteins, small molecules, ions and water. Each atom is entered as a line of information that starts with a keyword: either ATOM or HETATM. By tradition, the ATOM keyword is used to identify proteins or nucleic acid atoms, and keyword HETATM is used to identify atoms in small molecules. Following this keyword, there is a list of information about the atom, including its name, its number in the file, the name and number of the residue it belongs to, one letter to specify the chain (in oligomeric proteins), its x, y, and z coordinates, and an occupancy and temperature factor (described in more detail below).\" (from PDB-101: Guide to Understand PDB Data - Dealing with Coordinates) \n"
   ]
  },
  {
   "cell_type": "markdown",
   "metadata": {},
   "source": [
    "<i> V. For the institution you work for, you are to write a PDB parser from scratch that will be used for the next ten years. Which are the three file formats, available to you, which one would you choose and why? </i>\n",
    "\n",
    "The three file formats are PDB, mmCIF, XML. I would write a parser for the XML files, because it is human AND computer readable. Computers can work with XML files more efficiently than with simple text files, because XML is hierarchically structured and allows fast access for queries. In contrast, you have to iterate over PDB and mmCIF files line by line. "
   ]
  },
  {
   "cell_type": "markdown",
   "metadata": {},
   "source": [
    "<i> VI. Look at the most represented organisms in PDB. Is that also the organism, the proteins are expressed in for the structure determination? How do you explain the difference? </i>\n",
    "\n",
    "The most represented organisms (where the sequences come from a natural, non-modified source) are <i> Homo sapiens </i> and <i> Bos taurus </i>. The most popular organism, the proteins are expressed in, is <i> Escherichia coli </i>. The reason for this is, that you can easily manipulate the genome of <i>Escherichia coli</i> and bring in new genes. Also, it is illegal to modify a human and cow genomes in the way scientists manipulate <i>E. coli</i> genomes ;)"
   ]
  },
  {
   "cell_type": "markdown",
   "metadata": {},
   "source": [
    "<i> VII. Look at PDB structure 1c3w. How many ligands does the structure have? Which one is the natural ligand of the protein and what do you think is the purpose of the other ones? For a PDB file format of your choice, how could you retrieve the atomic coordinates of the ligand from the file? </i>\n",
    "\n",
    "The structure has 3 unique ligands: LI1, RET and SQU. Retinal is the natural ligand of this protein (bacteriorhodopsin). The other two ligands are lipid fragments. If you look at the 3D structure of the protein, these lipophilic ligands are probably an \"anchor\" for the protein, since it is a transmembrane protein that functions as ion-pump. If you look at the PDB format, you can retrieve the atomic coordinates from the lines that start with \"HETATM\" followed by the ligand name in the 4th column (LI1 | RET | SQU). The 7th column contains the x-coordinates, the 8th the y-coordinates an the 9th the z-coordinates. \n"
   ]
  },
  {
   "cell_type": "markdown",
   "metadata": {},
   "source": [
    "<i> VIII. Look at PDB entry 2OF7:  \n",
    "<ol> \n",
    "    <li> Compare the sequence that was used in the experiment to the sequence that is implied by all ATOM coordinates. Has every residue been resolved in the structure? </li> \n",
    "    <li> What is the associated entry in UniProtKB? Which parts of the UniProtKB sequence are mapped to the sequence used in  the PDB experiment?  Within the  mapped  section,  are  the sequences  100% identical?  If  not  what  are  the differences?  Hint:  Make  sure  not check  the  actual  amino  acids  in  PDB,  do not  rely on  the  one  letter-code. </li>\n",
    "    <li> Where can you find the information to answer everything above in the mmCIF file? </li> \n",
    "</ol> </i>\n",
    "\n",
    "1: There are 185 residues for the ATOM entries and 260 residues for the experiment (SEQRES) entries. We found out, that the start and the end of the SEQRES sequence and the MSE residues are missing in the ATOM entries. <br>\n",
    "2: The associated entry in UniProtKB is Q9EWH2_STRCO. The first two bases of the sequences map exactly to each other, then follows a \"deletion\" in the Uniprot sequence of 22 bases. The rest of the Uniprot sequence is 100% identical to the PDB sequence. The PDB sequence just has 2 more bases at the end. The PDB also tells us, that they discovered some selenomethionines instead of \"normal\" methionine (which is not represented in the one-letter-code). <br>\n",
    "3: You can find the experimental sequence within the following dataloop: <br>\n",
    "<pre>#loop_\n",
    "_entity_poly_seq.entity_id \n",
    "_entity_poly_seq.num \n",
    "_entity_poly_seq.mon_id \n",
    "_entity_poly_seq.hetero \n",
    "1 1   MSE n \n",
    "1 2   THR n \n",
    "1 3   MSE n \n",
    "1 4   GLY n \n",
    ".\n",
    ".\n",
    ".</pre>\n",
    "The ATOM sequence also begins with the ATOM tag: \n",
    "<pre>#loop_\n",
    "_atom_site.group_PDB \n",
    "_atom_site.id \n",
    "_atom_site.type_symbol \n",
    "_atom_site.label_atom_id \n",
    "_atom_site.label_alt_id \n",
    "_atom_site.label_comp_id \n",
    "_atom_site.label_asym_id \n",
    "_atom_site.label_entity_id \n",
    "_atom_site.label_seq_id \n",
    "_atom_site.pdbx_PDB_ins_code \n",
    "_atom_site.Cartn_x \n",
    "_atom_site.Cartn_y \n",
    "_atom_site.Cartn_z \n",
    "_atom_site.occupancy \n",
    "_atom_site.B_iso_or_equiv \n",
    "_atom_site.pdbx_formal_charge \n",
    "_atom_site.auth_seq_id \n",
    "_atom_site.auth_comp_id \n",
    "_atom_site.auth_asym_id \n",
    "_atom_site.auth_atom_id \n",
    "_atom_site.pdbx_PDB_model_num \n",
    "ATOM   1    N  N   . GLY A 1 40  ? -1.521 54.444 12.922 1.00 90.26 ? 17  GLY A N   1 \n",
    "ATOM   2    C  CA  . GLY A 1 40  ? -2.104 53.070 13.026 1.00 90.65 ? 17  GLY A CA  1 \n",
    ".\n",
    ".\n",
    ".</pre>\n",
    "The information about the Uniprot sequence is not in the file. \n",
    "The one letter code comes after the following tags: \n",
    "<pre>\n",
    "_entity_poly.pdbx_seq_one_letter_code       \n",
    ";(MSE)T(MSE)GSSHHHHHHSSGRENLYFQGH(MSE)AARSAPSPAGAPRPGLRERKKTRTREAIRAATYGLIRQQGYEA\n",
    "TTVEQIAERAEVSPSTVLRYFPTREDIVLTDEYDPV(MSE)AAELAARPAGEPWSDSLRHVLRKALGLGAGEEAELIRLR\n",
    "TRLLAEVPAVRAR(MSE)LEN(MSE)SDTGR(MSE)LARAIADRTGLDPDGLEVRIVS(MSE)SLVGGL(MSE)EVSRYW\n",
    "AEHDHEESLAELVDRALDALENGLPALRESDRESDREGDRGGHREDRREGPRKDGS\n",
    ";</pre>"
   ]
  },
  {
   "cell_type": "code",
   "execution_count": 81,
   "metadata": {},
   "outputs": [
    {
     "name": "stdout",
     "output_type": "stream",
     "text": [
      "['GLY', 'LEU', 'ARG', 'GLU', 'ARG', 'LYS', 'LYS', 'THR', 'ARG', 'THR', 'ARG', 'GLU', 'ALA', 'ILE', 'ARG', 'ALA', 'ALA', 'THR', 'TYR', 'GLY', 'LEU', 'ILE', 'ARG', 'GLN', 'GLN', 'GLY', 'TYR', 'GLU', 'ALA', 'THR', 'THR', 'VAL', 'GLU', 'GLN', 'ILE', 'ALA', 'GLU', 'ARG', 'ALA', 'GLU', 'VAL', 'SER', 'PRO', 'SER', 'THR', 'VAL', 'LEU', 'ARG', 'TYR', 'PHE', 'PRO', 'THR', 'ARG', 'GLU', 'ASP', 'ILE', 'VAL', 'LEU', 'THR', 'ASP', 'GLU', 'TYR', 'ASP', 'PRO', 'VAL', 'ALA', 'ALA', 'GLU', 'LEU', 'ALA', 'ALA', 'ARG', 'PRO', 'ALA', 'GLY', 'GLU', 'PRO', 'TRP', 'SER', 'ASP', 'SER', 'LEU', 'ARG', 'HIS', 'VAL', 'LEU', 'ARG', 'LYS', 'ALA', 'LEU', 'GLY', 'LEU', 'GLY', 'ALA', 'GLY', 'GLU', 'GLU', 'ALA', 'GLU', 'LEU', 'ILE', 'ARG', 'LEU', 'ARG', 'THR', 'ARG', 'LEU', 'LEU', 'ALA', 'GLU', 'VAL', 'PRO', 'ALA', 'VAL', 'ARG', 'ALA', 'ARG', 'LEU', 'GLU', 'ASN', 'SER', 'ASP', 'THR', 'GLY', 'ARG', 'LEU', 'ALA', 'ARG', 'ALA', 'ILE', 'ALA', 'ASP', 'ARG', 'THR', 'GLY', 'LEU', 'ASP', 'PRO', 'ASP', 'GLY', 'LEU', 'GLU', 'VAL', 'ARG', 'ILE', 'VAL', 'SER', 'SER', 'LEU', 'VAL', 'GLY', 'GLY', 'LEU', 'GLU', 'VAL', 'SER', 'ARG', 'TYR', 'TRP', 'ALA', 'GLU', 'HIS', 'ASP', 'HIS', 'GLU', 'GLU', 'SER', 'LEU', 'ALA', 'GLU', 'LEU', 'VAL', 'ASP', 'ARG', 'ALA', 'LEU', 'ASP', 'ALA', 'LEU', 'GLU', 'ASN', 'GLY', 'LEU', 'PRO', 'ALA']\n",
      "185\n",
      "['MSE', 'THR', 'MSE', 'GLY', 'SER', 'SER', 'HIS', 'HIS', 'HIS', 'HIS', 'HIS', 'HIS', 'SER', 'SER', 'GLY', 'ARG', 'GLU', 'ASN', 'LEU', 'TYR', 'PHE', 'GLN', 'GLY', 'HIS', 'MSE', 'ALA', 'ALA', 'ARG', 'SER', 'ALA', 'PRO', 'SER', 'PRO', 'ALA', 'GLY', 'ALA', 'PRO', 'ARG', 'PRO', 'GLY', 'LEU', 'ARG', 'GLU', 'ARG', 'LYS', 'LYS', 'THR', 'ARG', 'THR', 'ARG', 'GLU', 'ALA', 'ILE', 'ARG', 'ALA', 'ALA', 'THR', 'TYR', 'GLY', 'LEU', 'ILE', 'ARG', 'GLN', 'GLN', 'GLY', 'TYR', 'GLU', 'ALA', 'THR', 'THR', 'VAL', 'GLU', 'GLN', 'ILE', 'ALA', 'GLU', 'ARG', 'ALA', 'GLU', 'VAL', 'SER', 'PRO', 'SER', 'THR', 'VAL', 'LEU', 'ARG', 'TYR', 'PHE', 'PRO', 'THR', 'ARG', 'GLU', 'ASP', 'ILE', 'VAL', 'LEU', 'THR', 'ASP', 'GLU', 'TYR', 'ASP', 'PRO', 'VAL', 'MSE', 'ALA', 'ALA', 'GLU', 'LEU', 'ALA', 'ALA', 'ARG', 'PRO', 'ALA', 'GLY', 'GLU', 'PRO', 'TRP', 'SER', 'ASP', 'SER', 'LEU', 'ARG', 'HIS', 'VAL', 'LEU', 'ARG', 'LYS', 'ALA', 'LEU', 'GLY', 'LEU', 'GLY', 'ALA', 'GLY', 'GLU', 'GLU', 'ALA', 'GLU', 'LEU', 'ILE', 'ARG', 'LEU', 'ARG', 'THR', 'ARG', 'LEU', 'LEU', 'ALA', 'GLU', 'VAL', 'PRO', 'ALA', 'VAL', 'ARG', 'ALA', 'ARG', 'MSE', 'LEU', 'GLU', 'ASN', 'MSE', 'SER', 'ASP', 'THR', 'GLY', 'ARG', 'MSE', 'LEU', 'ALA', 'ARG', 'ALA', 'ILE', 'ALA', 'ASP', 'ARG', 'THR', 'GLY', 'LEU', 'ASP', 'PRO', 'ASP', 'GLY', 'LEU', 'GLU', 'VAL', 'ARG', 'ILE', 'VAL', 'SER', 'MSE', 'SER', 'LEU', 'VAL', 'GLY', 'GLY', 'LEU', 'MSE', 'GLU', 'VAL', 'SER', 'ARG', 'TYR', 'TRP', 'ALA', 'GLU', 'HIS', 'ASP', 'HIS', 'GLU', 'GLU', 'SER', 'LEU', 'ALA', 'GLU', 'LEU', 'VAL', 'ASP', 'ARG', 'ALA', 'LEU', 'ASP', 'ALA', 'LEU', 'GLU', 'ASN', 'GLY', 'LEU', 'PRO', 'ALA', 'LEU', 'ARG', 'GLU', 'SER', 'ASP', 'ARG', 'GLU', 'SER', 'ASP', 'ARG', 'GLU', 'GLY', 'ASP', 'ARG', 'GLY', 'GLY', 'HIS', 'ARG', 'GLU', 'ASP', 'ARG', 'ARG', 'GLU', 'GLY', 'PRO', 'ARG', 'LYS', 'ASP', 'GLY', 'SER']\n",
      "260\n"
     ]
    }
   ],
   "source": [
    "#Code for 1:\n",
    "import urllib.request as url\n",
    "with url.urlopen(\"https://files.rcsb.org/view/2OF7.pdb\") as data:\n",
    "    \n",
    "    res=''\n",
    "    residues_by_ATOM = []\n",
    "    residues_by_SEQRES = []\n",
    "    \n",
    "    for l in data:\n",
    "        l=l.decode('utf8')\n",
    "        \n",
    "        \n",
    "        if l.startswith(\"SEQRES\"):\n",
    "            r=l[19:].strip().split(' ')\n",
    "            residues_by_SEQRES += r\n",
    "        \n",
    "        \n",
    "        if l.startswith('ATOM'):\n",
    "            r=l[22:26]\n",
    "            if r!=res:\n",
    "                res=r\n",
    "                residues_by_ATOM.append(l[17:20])\n",
    "                \n",
    "print(residues_by_ATOM)\n",
    "print(len(residues_by_ATOM))\n",
    "\n",
    "print(residues_by_SEQRES)\n",
    "print(len(residues_by_SEQRES))\n",
    "                \n",
    "            "
   ]
  },
  {
   "cell_type": "code",
   "execution_count": 112,
   "metadata": {},
   "outputs": [
    {
     "name": "stdout",
     "output_type": "stream",
     "text": [
      "MTMGSSHHHHHHSSGRENLYFQGHMAARSAPSPAGAPRPGLRERKKTRTREAIRAATYGLIRQQGYEATTVEQIAERAEVSPSTVLRYFPTREDIVLTDEYDPVMAAELAARPAGEPWSDSLRHVLRKALGLGAGEEAELIRLRTRLLAEVPAVRARMLENMSDTGRMLARAIADRTGLDPDGLEVRIVSMSLVGGLMEVSRYWAEHDHEESLAELVDRALDALENGLPALRESDRESDREGDRGGHREDRREGPRKDGS\n",
      "MTAARSAPSPAGAPRPGLRERKKTRTREAIRAATYGLIRQQGYEATTVEQIAERAEVSPSTVLRYFPTREDIVLTDEYDPVMAAELAARPAGEPWSDSLRHVLRKALGLGAGEEAELIRLRTRLLAEVPAVRARMLENMSDTGRMLARAIADRTGLDPDGLEVRIVSMSLVGGLMEVSRYWAEHDHEESLAELVDRALDALENGLPALRESDRESDREGDRGGHREDRREGPRKD\n",
      "MTMGSSHHHHHHSSGRENLYFQGHMAARSAPSPAGAPRPGLRERKKTRTREAIRAATYGLIRQQGYEATTVEQIAERAEVSPSTVLRYFPTREDIVLTDEYDPVMAAELAARPAGEPWSDSLRHVLRKALGLGAGEEAELIRLRTRLLAEVPAVRARMLENMSDTGRMLARAIADRTGLDPDGLEVRIVSMSLVGGLMEVSRYWAEHDHEESLAELVDRALDALENGLPALRESDRESDREGDRGGHREDRREGPRKDGS\n",
      "||                       |||||||||||||||||||||||||||||||||||||||||||||||||||||||||||||||||||||||||||||||||||||||||||||||||||||||||||||||||||||||||||||||||||||||||||||||||||||||||||||||||||||||||||||||||||||||||||||||||||||||||||||||||||||||||||||||||||||||||  \n",
      "MT-----------------------AARSAPSPAGAPRPGLRERKKTRTREAIRAATYGLIRQQGYEATTVEQIAERAEVSPSTVLRYFPTREDIVLTDEYDPVMAAELAARPAGEPWSDSLRHVLRKALGLGAGEEAELIRLRTRLLAEVPAVRARMLENMSDTGRMLARAIADRTGLDPDGLEVRIVSMSLVGGLMEVSRYWAEHDHEESLAELVDRALDALENGLPALRESDRESDREGDRGGHREDRREGPRKD--\n",
      "  Score=235\n",
      "\n"
     ]
    }
   ],
   "source": [
    "#code fuer 2\n",
    "from Bio import pairwise2\n",
    "from Bio.pairwise2 import format_alignment\n",
    "from IPython.core.display import HTML\n",
    "with url.urlopen(\"https://www.rcsb.org/pdb/download/downloadFastaFiles.do?structureIdList=2OF7&compressionType=uncompressed\") as data:\n",
    "    \n",
    "    exp_one_letter_seq = ''\n",
    "    \n",
    "    for l in data:\n",
    "        l=l.decode('utf8')\n",
    "        if not l.startswith('>'):\n",
    "            exp_one_letter_seq += l.strip()\n",
    "            \n",
    "print(exp_one_letter_seq)\n",
    "\n",
    "with url.urlopen(\"http://www.uniprot.org/uniprot/Q9EWH2.fasta\") as data:\n",
    "    \n",
    "    uni_one_letter_seq = ''\n",
    "    \n",
    "    for l in data:\n",
    "        l=l.decode('utf8')\n",
    "        if not l.startswith('>'):\n",
    "            uni_one_letter_seq += l.strip()\n",
    "            \n",
    "print(uni_one_letter_seq)\n",
    "\n",
    "alignments = pairwise2.align.globalxx(exp_one_letter_seq,uni_one_letter_seq)\n",
    "#funktioniert nicht im notebook\n",
    "print(format_alignment(*alignments[0]))"
   ]
  },
  {
   "cell_type": "markdown",
   "metadata": {},
   "source": []
  },
  {
   "cell_type": "code",
   "execution_count": null,
   "metadata": {},
   "outputs": [],
   "source": []
  }
 ],
 "metadata": {
  "kernelspec": {
   "display_name": "Python 3",
   "language": "python",
   "name": "python3"
  },
  "language_info": {
   "codemirror_mode": {
    "name": "ipython",
    "version": 3
   },
   "file_extension": ".py",
   "mimetype": "text/x-python",
   "name": "python",
   "nbconvert_exporter": "python",
   "pygments_lexer": "ipython3",
   "version": "3.6.4"
  }
 },
 "nbformat": 4,
 "nbformat_minor": 2
}
